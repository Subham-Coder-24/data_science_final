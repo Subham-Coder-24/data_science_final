{
 "cells": [
  {
   "cell_type": "code",
   "execution_count": 1,
   "metadata": {},
   "outputs": [
    {
     "name": "stdout",
     "output_type": "stream",
     "text": [
      "Collecting pandas\n",
      "  Obtaining dependency information for pandas from https://files.pythonhosted.org/packages/e1/0c/ad295fd74bfac85358fd579e271cded3ac969de81f62dd0142c426b9da91/pandas-2.2.3-cp312-cp312-macosx_11_0_arm64.whl.metadata\n",
      "  Using cached pandas-2.2.3-cp312-cp312-macosx_11_0_arm64.whl.metadata (89 kB)\n",
      "Collecting numpy>=1.26.0 (from pandas)\n",
      "  Obtaining dependency information for numpy>=1.26.0 from https://files.pythonhosted.org/packages/56/44/f899b0581766c230da42f751b7b8896d096640b19b312164c267e48d36cb/numpy-2.1.2-cp312-cp312-macosx_14_0_arm64.whl.metadata\n",
      "  Using cached numpy-2.1.2-cp312-cp312-macosx_14_0_arm64.whl.metadata (60 kB)\n",
      "Requirement already satisfied: python-dateutil>=2.8.2 in ./.env/lib/python3.12/site-packages (from pandas) (2.9.0.post0)\n",
      "Collecting pytz>=2020.1 (from pandas)\n",
      "  Obtaining dependency information for pytz>=2020.1 from https://files.pythonhosted.org/packages/11/c3/005fcca25ce078d2cc29fd559379817424e94885510568bc1bc53d7d5846/pytz-2024.2-py2.py3-none-any.whl.metadata\n",
      "  Using cached pytz-2024.2-py2.py3-none-any.whl.metadata (22 kB)\n",
      "Collecting tzdata>=2022.7 (from pandas)\n",
      "  Obtaining dependency information for tzdata>=2022.7 from https://files.pythonhosted.org/packages/a6/ab/7e5f53c3b9d14972843a647d8d7a853969a58aecc7559cb3267302c94774/tzdata-2024.2-py2.py3-none-any.whl.metadata\n",
      "  Using cached tzdata-2024.2-py2.py3-none-any.whl.metadata (1.4 kB)\n",
      "Requirement already satisfied: six>=1.5 in ./.env/lib/python3.12/site-packages (from python-dateutil>=2.8.2->pandas) (1.16.0)\n",
      "Using cached pandas-2.2.3-cp312-cp312-macosx_11_0_arm64.whl (11.4 MB)\n",
      "Using cached numpy-2.1.2-cp312-cp312-macosx_14_0_arm64.whl (5.1 MB)\n",
      "Using cached pytz-2024.2-py2.py3-none-any.whl (508 kB)\n",
      "Using cached tzdata-2024.2-py2.py3-none-any.whl (346 kB)\n",
      "Installing collected packages: pytz, tzdata, numpy, pandas\n",
      "Successfully installed numpy-2.1.2 pandas-2.2.3 pytz-2024.2 tzdata-2024.2\n",
      "\n",
      "\u001b[1m[\u001b[0m\u001b[34;49mnotice\u001b[0m\u001b[1;39;49m]\u001b[0m\u001b[39;49m A new release of pip is available: \u001b[0m\u001b[31;49m23.2.1\u001b[0m\u001b[39;49m -> \u001b[0m\u001b[32;49m24.2\u001b[0m\n",
      "\u001b[1m[\u001b[0m\u001b[34;49mnotice\u001b[0m\u001b[1;39;49m]\u001b[0m\u001b[39;49m To update, run: \u001b[0m\u001b[32;49mpip install --upgrade pip\u001b[0m\n",
      "Note: you may need to restart the kernel to use updated packages.\n"
     ]
    }
   ],
   "source": [
    "%pip install pandas"
   ]
  },
  {
   "cell_type": "code",
   "execution_count": 6,
   "metadata": {},
   "outputs": [
    {
     "name": "stdout",
     "output_type": "stream",
     "text": [
      "    EmployeeID   Department DiscussionCount AverageRating FeedbackCount  \\\n",
      "0            1   Operations             0.0           0.0           0.0   \n",
      "1            2  Engineering            1.42          1.31           2.1   \n",
      "2            3   Operations           13.64          3.98         36.02   \n",
      "3            4    Marketing             0.0           0.0           0.0   \n",
      "4            5  Engineering           10.43          3.11         39.23   \n",
      "..         ...          ...             ...           ...           ...   \n",
      "995        996        Legal             0.0           0.0           0.0   \n",
      "996        997           IT             0.0           0.0           0.0   \n",
      "997        998   Operations            1.34           0.9          7.68   \n",
      "998        999        Legal             0.0           0.0           0.0   \n",
      "999       1000           IT             0.0           0.0           0.0   \n",
      "\n",
      "    TotalCourseCount AverageQuizScore TotalTimeSpent EngagementLevelScore  \\\n",
      "0                  0                0              0                  0.0   \n",
      "1                  1               14            293              34.0315   \n",
      "2                  2               48            174               40.727   \n",
      "3                  0                0              0                  0.0   \n",
      "4                  3               45            137              36.2595   \n",
      "..               ...              ...            ...                  ...   \n",
      "995                0                0              0                  0.0   \n",
      "996                0                0              0                  0.0   \n",
      "997                1               14            111               16.829   \n",
      "998                0                0              0                  0.0   \n",
      "999                0                0              0                  0.0   \n",
      "\n",
      "    EngagementLevel  \n",
      "0               Low  \n",
      "1               Low  \n",
      "2               Low  \n",
      "3               Low  \n",
      "4               Low  \n",
      "..              ...  \n",
      "995             Low  \n",
      "996             Low  \n",
      "997             Low  \n",
      "998             Low  \n",
      "999             Low  \n",
      "\n",
      "[1000 rows x 10 columns]\n"
     ]
    }
   ],
   "source": [
    "# Load the employee data\n",
    "import pandas as pd\n",
    "path = r'/Users/subhamswaruppradhan/Desktop/data-final-project/data_science/data/Updated_Merged_Data_with_Engagement.csv'\n",
    "df = pd.read_csv(path)\n",
    "# Convert all values in the DataFrame to strings\n",
    "df = df.astype(str)\n",
    "\n",
    "# Trim spaces from column names\n",
    "df.columns = df.columns.str.strip()\n",
    "\n",
    "# Trim spaces from every cell in the DataFrame using apply\n",
    "df = df.apply(lambda x: x.str.strip())\n",
    "print(df)\n",
    "\n",
    "df.to_csv(\"/Users/subhamswaruppradhan/Desktop/data-final-project/data_science/data/Updated_Merged_Data_with_Engagement.csv\", index=False)\n"
   ]
  },
  {
   "cell_type": "code",
   "execution_count": null,
   "metadata": {},
   "outputs": [],
   "source": []
  }
 ],
 "metadata": {
  "kernelspec": {
   "display_name": ".env",
   "language": "python",
   "name": "python3"
  },
  "language_info": {
   "codemirror_mode": {
    "name": "ipython",
    "version": 3
   },
   "file_extension": ".py",
   "mimetype": "text/x-python",
   "name": "python",
   "nbconvert_exporter": "python",
   "pygments_lexer": "ipython3",
   "version": "3.12.1"
  }
 },
 "nbformat": 4,
 "nbformat_minor": 2
}
